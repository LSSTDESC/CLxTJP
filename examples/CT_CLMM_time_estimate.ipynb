{
 "cells": [
  {
   "cell_type": "markdown",
   "metadata": {},
   "source": [
    "### Goal: Evaluation the time it take to compute CL lensing quantities using `cluster-toolkit` directly or the version wrapped into `CLMM` "
   ]
  },
  {
   "cell_type": "code",
   "execution_count": 1,
   "metadata": {
    "collapsed": true
   },
   "outputs": [],
   "source": [
    "import numpy as np\n",
    "import matplotlib.pyplot as plt\n",
    "%matplotlib inline"
   ]
  },
  {
   "cell_type": "code",
   "execution_count": 2,
   "metadata": {
    "collapsed": true
   },
   "outputs": [],
   "source": [
    "from astropy.cosmology import FlatLambdaCDM\n",
    "import cluster_toolkit as ct\n",
    "from clmm import modeling"
   ]
  },
  {
   "cell_type": "markdown",
   "metadata": {},
   "source": [
    "#### Define a cosmology and fix cluster concentration"
   ]
  },
  {
   "cell_type": "code",
   "execution_count": 3,
   "metadata": {},
   "outputs": [],
   "source": [
    "cosmo = FlatLambdaCDM(H0=70, Om0=0.27, Ob0=0.045)\n",
    "concentration = 4 #arbitrary\n",
    "Omega_m = cosmo.Om0\n",
    "R_perp = np.logspace(-2, 1, 30) #Mpc/h comoving; distance on the sky"
   ]
  },
  {
   "cell_type": "markdown",
   "metadata": {},
   "source": [
    "#### Compare the brute force approach between `CT` and `CLMM`, calling the function for each cluster available"
   ]
  },
  {
   "cell_type": "code",
   "execution_count": 39,
   "metadata": {},
   "outputs": [],
   "source": [
    "# Generate a population of random clusters\n",
    "N_cl = int(1e4)\n",
    "pop_cl_mass = np.random.uniform(1.e13,1.e16, N_cl)\n",
    "pop_cl_z = np.random.uniform(0.1,1.2, N_cl)\n",
    "\n",
    "def brute_force_CT():\n",
    "    res = np.zeros([N_cl,len(R_perp)])\n",
    "    sigma_r_proj = np.logspace(-3, 4, 1000) # this is so that CT runs in the same way as how it's called in CLMM\n",
    "    for i,(mass,z) in enumerate(zip(pop_cl_mass,pop_cl_z)):\n",
    "        Om = Omega_m*(1+z)**3. # Need Omega_m(z) in cluster-toolkit\n",
    "        Sigma_nfw = ct.deltasigma.Sigma_nfw_at_R(sigma_r_proj, mass, concentration, Om)\n",
    "        res[i] = ct.deltasigma.DeltaSigma_at_R(R_perp, sigma_r_proj, Sigma_nfw, mass, concentration, Om)\n",
    "\n",
    "    return res\n",
    "        \n",
    "def brute_force_CLMM():\n",
    "    res = np.zeros([N_cl,len(R_perp)])\n",
    "    for i,(mass,z) in enumerate(zip(pop_cl_mass,pop_cl_z)):\n",
    "        res[i] = modeling.predict_excess_surface_density(R_perp, mass, concentration, z, cosmo=cosmo, \n",
    "                                                delta_mdef=200, halo_profile_model='nfw')\n",
    "    return res\n",
    "        \n"
   ]
  },
  {
   "cell_type": "code",
   "execution_count": 30,
   "metadata": {},
   "outputs": [
    {
     "name": "stdout",
     "output_type": "stream",
     "text": [
      "2.11 s ± 93.6 ms per loop (mean ± std. dev. of 7 runs, 1 loop each)\n"
     ]
    }
   ],
   "source": [
    "%timeit brute_force_CT()"
   ]
  },
  {
   "cell_type": "code",
   "execution_count": 31,
   "metadata": {},
   "outputs": [
    {
     "name": "stdout",
     "output_type": "stream",
     "text": [
      "2.87 s ± 69 ms per loop (mean ± std. dev. of 7 runs, 1 loop each)\n"
     ]
    }
   ],
   "source": [
    "%timeit brute_force_CLMM()"
   ]
  },
  {
   "cell_type": "markdown",
   "metadata": {},
   "source": [
    "#### Generate profiles on a grid before interpolating for each cluster in the population."
   ]
  },
  {
   "cell_type": "code",
   "execution_count": 32,
   "metadata": {
    "collapsed": true
   },
   "outputs": [],
   "source": [
    "def grid_ct_DeltaSigma(cl_masses, cl_redshifts, R_perp):\n",
    "    sigma_r_proj = np.logspace(-3, 4, 1000) # this is so that CT runs in the same way as how it's called in CLMM\n",
    "    res = np.zeros([len(cl_masses), len(cl_redshifts), len(R_perp)])\n",
    "    for i,mass in enumerate(cl_masses):\n",
    "        for j,z in enumerate(cl_redshifts):\n",
    "            Om = Omega_m*(1+z)**3. # Need Omega_m(z) in cluster-toolkit\n",
    "            Sigma_nfw = ct.deltasigma.Sigma_nfw_at_R(sigma_r_proj, mass, concentration, Om)\n",
    "            res[i][j] = ct.deltasigma.DeltaSigma_at_R(R_perp, sigma_r_proj, Sigma_nfw, mass, concentration, Om)\n",
    "    return res\n",
    "\n",
    "def grid_clmm_DeltaSigma(cl_masses, cl_redshifts, R_perp):\n",
    "    res = np.zeros([len(cl_masses), len(cl_redshifts), len(R_perp)])\n",
    "    for i,mass in enumerate(cl_masses):\n",
    "        for j,z in enumerate(cl_redshifts):\n",
    "            res[i][j] = modeling.predict_excess_surface_density(R_perp, mass, concentration, z, cosmo=cosmo, \n",
    "                                                                 delta_mdef=200, halo_profile_model='nfw')\n",
    "    return res       \n",
    "\n",
    "def grid_clmm_gammat(cl_masses, cl_redshifts, src_z, R_perp):\n",
    "    res = np.zeros([len(cl_masses), len(cl_redshifts), len(R_perp)])    \n",
    "    for i,mass in enumerate(cl_masses):\n",
    "        for j,z in enumerate(cl_redshifts):\n",
    "            res[i][j] = modeling.predict_reduced_tangential_shear(R_perp, mdelta=mass, cdelta=concentration, \n",
    "                                                           z_cluster=z, z_source=src_z, cosmo=cosmo, \n",
    "                                                           delta_mdef=200, halo_profile_model='nfw', \n",
    "                                                           z_src_model='single_plane')   \n",
    "    return res"
   ]
  },
  {
   "cell_type": "markdown",
   "metadata": {},
   "source": [
    "#### Define the mass, redshifts and radius arrays.\n",
    "- 30 radius bins\n",
    "- 20 mass bins\n",
    "- 20 redshifts bins\n",
    "\n",
    "So, 400 function calls"
   ]
  },
  {
   "cell_type": "code",
   "execution_count": 40,
   "metadata": {
    "collapsed": true
   },
   "outputs": [],
   "source": [
    "cl_masses = np.logspace(13.,16.,30)\n",
    "cl_redshifts = np.linspace(0.1,1.2,30)"
   ]
  },
  {
   "cell_type": "markdown",
   "metadata": {},
   "source": [
    "#### Time to generate the interpolation table"
   ]
  },
  {
   "cell_type": "code",
   "execution_count": 41,
   "metadata": {},
   "outputs": [
    {
     "name": "stdout",
     "output_type": "stream",
     "text": [
      "213 ms ± 58 ms per loop (mean ± std. dev. of 7 runs, 1 loop each)\n"
     ]
    }
   ],
   "source": [
    "%timeit res_ct_DeltaSigma = grid_ct_DeltaSigma(cl_masses, cl_redshifts, R_perp)"
   ]
  },
  {
   "cell_type": "code",
   "execution_count": 91,
   "metadata": {},
   "outputs": [
    {
     "name": "stdout",
     "output_type": "stream",
     "text": [
      "31.4 ms ± 3.36 ms per loop (mean ± std. dev. of 7 runs, 10 loops each)\n"
     ]
    }
   ],
   "source": [
    "%timeit res_clmm_DeltaSigma = grid_clmm_DeltaSigma(cl_masses, cl_redshifts, R_perp)"
   ]
  },
  {
   "cell_type": "markdown",
   "metadata": {},
   "source": [
    "It takes `CLMM` takes ~30% longer to generate the `DeltaSigma` profile than it does `cluster-toolkit`. Below, a sanity check to verify they did compute the same thing."
   ]
  },
  {
   "cell_type": "code",
   "execution_count": 42,
   "metadata": {},
   "outputs": [
    {
     "data": {
      "text/plain": [
       "[<matplotlib.lines.Line2D at 0x1150042e8>]"
      ]
     },
     "execution_count": 42,
     "metadata": {},
     "output_type": "execute_result"
    },
    {
     "data": {
      "image/png": "[encoded data removed]",
      "text/plain": [
       "<matplotlib.figure.Figure at 0x114fe7518>"
      ]
     },
     "metadata": {
      "needs_background": "light"
     },
     "output_type": "display_data"
    }
   ],
   "source": [
    "res_ct_DeltaSigma = grid_ct_DeltaSigma(cl_masses, cl_redshifts, R_perp)\n",
    "res_clmm_DeltaSigma = grid_clmm_DeltaSigma(cl_masses, cl_redshifts, R_perp)\n",
    "plt.loglog(R_perp, res_ct_DeltaSigma[1][2], marker='+', markersize=10)\n",
    "plt.loglog(R_perp, res_clmm_DeltaSigma[1][2], marker = '.')"
   ]
  },
  {
   "cell_type": "markdown",
   "metadata": {},
   "source": [
    "#### Given the grid of profiles, interpolate for each cluster of the population"
   ]
  },
  {
   "cell_type": "code",
   "execution_count": 43,
   "metadata": {},
   "outputs": [],
   "source": [
    "from scipy import interpolate\n",
    "\n",
    "def interpolation_CLMM():\n",
    "    interp_func={}\n",
    "    for i,R in enumerate(R_perp): # Need one interpolation func at each point of the profile\n",
    "        interp_func[R] = interpolate.interp2d(np.log10(cl_masses), cl_redshifts, res_clmm_DeltaSigma[:,:,i], kind='cubic')\n",
    "\n",
    "    res = np.zeros([N_cl,len(R_perp)])\n",
    "    for i,(mass,z) in enumerate(zip(pop_cl_mass,pop_cl_z)):\n",
    "        res[i]=[interp_func[R](np.log10(mass),z)[0] for R in R_perp]\n",
    "\n",
    "    return res\n",
    "\n",
    "def interpolation_CT():\n",
    "    interp_func={}\n",
    "    for i,R in enumerate(R_perp):\n",
    "        interp_func[R] = interpolate.interp2d(np.log10(cl_masses), cl_redshifts, res_ct_DeltaSigma[:,:,i], kind='cubic')\n",
    "\n",
    "    res = np.zeros([N_cl,len(R_perp)])\n",
    "    for i,(mass,z) in enumerate(zip(pop_cl_mass,pop_cl_z)):\n",
    "        res[i]=[interp_func[R](np.log10(mass),z)[0] for R in R_perp]\n",
    "        \n",
    "    return res\n"
   ]
  },
  {
   "cell_type": "code",
   "execution_count": 26,
   "metadata": {},
   "outputs": [
    {
     "name": "stdout",
     "output_type": "stream",
     "text": [
      "7.52 s ± 477 ms per loop (mean ± std. dev. of 7 runs, 1 loop each)\n"
     ]
    }
   ],
   "source": [
    "%timeit interpolation_CT()"
   ]
  },
  {
   "cell_type": "code",
   "execution_count": 14,
   "metadata": {},
   "outputs": [
    {
     "name": "stdout",
     "output_type": "stream",
     "text": [
      "6.2 s ± 14.9 ms per loop (mean ± std. dev. of 7 runs, 1 loop each)\n"
     ]
    }
   ],
   "source": [
    "%timeit interpolation_CLMM()"
   ]
  },
  {
   "cell_type": "markdown",
   "metadata": {},
   "source": [
    "#### Checking that the interpolated profile look like profile on the first 10 clusters of the population"
   ]
  },
  {
   "cell_type": "code",
   "execution_count": 36,
   "metadata": {},
   "outputs": [],
   "source": [
    "res_bruteforce = brute_force_CLMM()\n",
    "res_interp = interpolation_CLMM()"
   ]
  },
  {
   "cell_type": "code",
   "execution_count": 37,
   "metadata": {},
   "outputs": [
    {
     "data": {
      "text/plain": [
       "[<matplotlib.lines.Line2D at 0x11477e940>]"
      ]
     },
     "execution_count": 37,
     "metadata": {},
     "output_type": "execute_result"
    },
    {
     "data": {
      "image/png": "[encoded data removed]",
      "text/plain": [
       "<matplotlib.figure.Figure at 0x114842f98>"
      ]
     },
     "metadata": {
      "needs_background": "light"
     },
     "output_type": "display_data"
    }
   ],
   "source": [
    "plt.loglog(R_perp,res_bruteforce[0])\n",
    "plt.loglog(R_perp,res_interp[0])"
   ]
  },
  {
   "cell_type": "code",
   "execution_count": 63,
   "metadata": {},
   "outputs": [
    {
     "name": "stdout",
     "output_type": "stream",
     "text": [
      "6.79 s ± 319 ms per loop (mean ± std. dev. of 7 runs, 1 loop each)\n"
     ]
    }
   ],
   "source": [
    "%timeit interpolation_CT()"
   ]
  },
  {
   "cell_type": "markdown",
   "metadata": {},
   "source": [
    "#### Next things to do - use prun to identify where CLMM loses time..."
   ]
  },
  {
   "cell_type": "markdown",
   "metadata": {},
   "source": [
    "#### CLMM tangential shear profile computation for the same mass and redshift grid and a single source plane."
   ]
  },
  {
   "cell_type": "code",
   "execution_count": 164,
   "metadata": {},
   "outputs": [
    {
     "name": "stdout",
     "output_type": "stream",
     "text": [
      "569 ms ± 43.9 ms per loop (mean ± std. dev. of 7 runs, 1 loop each)\n"
     ]
    }
   ],
   "source": [
    "z_src = 3.\n",
    "%timeit res_clmm_gt = grid_clmm_gammat(cl_masses, cl_redshifts, z_src, R_perp)"
   ]
  },
  {
   "cell_type": "markdown",
   "metadata": {},
   "source": [
    "The extra time compared to DeltaSigma comes from computing the angular diameter distances for Sigma_crit"
   ]
  }
 ],
 "metadata": {
  "kernelspec": {
   "display_name": "Python 3",
   "language": "python",
   "name": "python3"
  },
  "language_info": {
   "codemirror_mode": {
    "name": "ipython",
    "version": 3
   },
   "file_extension": ".py",
   "mimetype": "text/x-python",
   "name": "python",
   "nbconvert_exporter": "python",
   "pygments_lexer": "ipython3",
   "version": "3.6.3"
  }
 },
 "nbformat": 4,
 "nbformat_minor": 2
}
