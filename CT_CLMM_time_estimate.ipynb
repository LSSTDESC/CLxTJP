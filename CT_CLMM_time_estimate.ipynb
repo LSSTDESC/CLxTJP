{
 "cells": [
  {
   "cell_type": "markdown",
   "metadata": {},
   "source": [
    "### Goal: Evaluation the time it take to compute CL lensing quantities using `cluster-toolkit` directly or the version wrapped into `CLMM` "
   ]
  },
  {
   "cell_type": "code",
   "execution_count": 46,
   "metadata": {
    "collapsed": true
   },
   "outputs": [],
   "source": [
    "import numpy as np\n",
    "import matplotlib.pyplot as plt\n",
    "%matplotlib inline"
   ]
  },
  {
   "cell_type": "code",
   "execution_count": 47,
   "metadata": {
    "collapsed": true
   },
   "outputs": [],
   "source": [
    "from astropy.cosmology import FlatLambdaCDM\n",
    "import cluster_toolkit as ct\n",
    "from clmm import modeling"
   ]
  },
  {
   "cell_type": "markdown",
   "metadata": {},
   "source": [
    "#### Define a cosmology and fix cluster concentration"
   ]
  },
  {
   "cell_type": "code",
   "execution_count": null,
   "metadata": {
    "collapsed": true
   },
   "outputs": [],
   "source": [
    "cosmo = FlatLambdaCDM(H0=70, Om0=0.27, Ob0=0.045)\n",
    "concentration = 4 #arbitrary\n",
    "Omega_m = cosmo.Om0"
   ]
  },
  {
   "cell_type": "markdown",
   "metadata": {},
   "source": [
    "#### Functions to compute the `DeltaSigma` or the `g_t` profiles, either from `cl-toolkit` or from `CLMM`.\n",
    "It's done for arrays of masses and redshifts. Results are returned in a 3D array of size `Nmass x Nz x Nr`"
   ]
  },
  {
   "cell_type": "code",
   "execution_count": 158,
   "metadata": {},
   "outputs": [],
   "source": [
    "def test_ct_DeltaSigma(cl_masses, cl_redshifts, R_perp):\n",
    "    sigma_r_proj = np.logspace(-3, 4, 1000) # this is so that CT runs in the same way as how it's called in CLMM\n",
    "    res = np.zeros([len(cl_masses), len(cl_redshifts), len(R_perp)])\n",
    "    for i,mass in enumerate(cl_masses):\n",
    "        for j,z in enumerate(cl_redshifts):\n",
    "            Om = Omega_m*(1+z)**3. # Need Omega_m(z) in cluster-toolkit\n",
    "            Sigma_nfw = ct.deltasigma.Sigma_nfw_at_R(sigma_r_proj, mass, concentration, Om)\n",
    "            res[i][j] = ct.deltasigma.DeltaSigma_at_R(R_perp, sigma_r_proj, Sigma_nfw, mass, concentration, Om)\n",
    "    return res\n",
    "\n",
    "def test_clmm_DeltaSigma(cl_masses, cl_redshifts, R_perp):\n",
    "    res = np.zeros([len(cl_masses), len(cl_redshifts), len(R_perp)])\n",
    "    for i,mass in enumerate(cl_masses):\n",
    "        for j,z in enumerate(cl_redshifts):\n",
    "            res[i][j] = modeling.predict_excess_surface_density(R_perp, mass, concentration, z, cosmo=cosmo, \n",
    "                                                                 delta_mdef=200, halo_profile_model='nfw')\n",
    "    return res       \n",
    "\n",
    "def test_clmm_gammat(cl_masses, cl_redshifts, src_z, R_perp):\n",
    "    res = np.zeros([len(cl_masses), len(cl_redshifts), len(R_perp)])    \n",
    "    for i,mass in enumerate(cl_masses):\n",
    "        for j,z in enumerate(cl_redshifts):\n",
    "            res[i][j] = modeling.predict_reduced_tangential_shear(R_perp, mdelta=mass, cdelta=concentration, \n",
    "                                                           z_cluster=z, z_source=src_z, cosmo=cosmo, \n",
    "                                                           delta_mdef=200, halo_profile_model='nfw', \n",
    "                                                           z_src_model='single_plane')   \n",
    "    return res"
   ]
  },
  {
   "cell_type": "markdown",
   "metadata": {},
   "source": [
    "#### Define the mass, redshifts and radius arrays.\n",
    "- 30 radius bins\n",
    "- 20 mass bins\n",
    "- 20 redshifts bins\n",
    "\n",
    "So, 400 function calls"
   ]
  },
  {
   "cell_type": "code",
   "execution_count": 159,
   "metadata": {
    "collapsed": true
   },
   "outputs": [],
   "source": [
    "R_perp = np.logspace(-2, 1, 30) #Mpc/h comoving; distance on the sky\n",
    "cl_masses = np.logspace(13.,16.,20)\n",
    "cl_redshifts = np.logspace(-1,0.12,20)"
   ]
  },
  {
   "cell_type": "markdown",
   "metadata": {},
   "source": [
    "#### and `timeit`!"
   ]
  },
  {
   "cell_type": "code",
   "execution_count": 160,
   "metadata": {},
   "outputs": [
    {
     "name": "stdout",
     "output_type": "stream",
     "text": [
      "81.8 ms ± 1.84 ms per loop (mean ± std. dev. of 7 runs, 10 loops each)\n"
     ]
    }
   ],
   "source": [
    "%timeit res_ct_DeltaSigma = test_ct_DeltaSigma(cl_masses, cl_redshifts, R_perp)"
   ]
  },
  {
   "cell_type": "code",
   "execution_count": 161,
   "metadata": {},
   "outputs": [
    {
     "name": "stdout",
     "output_type": "stream",
     "text": [
      "111 ms ± 2.9 ms per loop (mean ± std. dev. of 7 runs, 10 loops each)\n"
     ]
    }
   ],
   "source": [
    "%timeit res_clmm_DeltaSigma = test_clmm_DeltaSigma(cl_masses, cl_redshifts, R_perp)"
   ]
  },
  {
   "cell_type": "markdown",
   "metadata": {},
   "source": [
    "It takes `CLMM` takes ~35% longer to generate the `DeltaSigma` profile than it does `cluster-toolkit`. Below, a sanity check to verify they did compute the same thing."
   ]
  },
  {
   "cell_type": "code",
   "execution_count": 163,
   "metadata": {},
   "outputs": [
    {
     "data": {
      "text/plain": [
       "[<matplotlib.lines.Line2D at 0x116a74828>]"
      ]
     },
     "execution_count": 163,
     "metadata": {},
     "output_type": "execute_result"
    },
    {
     "data": {
      "image/png": "[encoded data removed]",
      "text/plain": [
       "<matplotlib.figure.Figure at 0x115d810f0>"
      ]
     },
     "metadata": {
      "needs_background": "light"
     },
     "output_type": "display_data"
    }
   ],
   "source": [
    "res_ct_DeltaSigma = test_ct_DeltaSigma(cl_masses, cl_redshifts, R_perp)\n",
    "res_clmm_DeltaSigma = test_clmm_DeltaSigma(cl_masses, cl_redshifts, R_perp)\n",
    "plt.loglog(R_perp, res_ct_DeltaSigma[1][2], marker='+', markersize=10)\n",
    "plt.loglog(R_perp, res_clmm_DeltaSigma[1][2], marker = '.')"
   ]
  },
  {
   "cell_type": "markdown",
   "metadata": {},
   "source": [
    "#### Next things to do - use prun to identify where CLMM loses time..."
   ]
  },
  {
   "cell_type": "markdown",
   "metadata": {},
   "source": [
    "#### CLMM tangential shear profile computation for the same mass and redshift grid and a single source plane."
   ]
  },
  {
   "cell_type": "code",
   "execution_count": 164,
   "metadata": {},
   "outputs": [
    {
     "name": "stdout",
     "output_type": "stream",
     "text": [
      "569 ms ± 43.9 ms per loop (mean ± std. dev. of 7 runs, 1 loop each)\n"
     ]
    }
   ],
   "source": [
    "z_src = 3.\n",
    "%timeit res_clmm_gt = test_clmm_gammat(cl_masses, cl_redshifts, z_src, R_perp)"
   ]
  },
  {
   "cell_type": "markdown",
   "metadata": {},
   "source": [
    "The extra time compared to DeltaSigma comes from computing the angular diameter distances for Sigma_crit"
   ]
  }
 ],
 "metadata": {
  "kernelspec": {
   "display_name": "Python 3",
   "language": "python",
   "name": "python3"
  },
  "language_info": {
   "codemirror_mode": {
    "name": "ipython",
    "version": 3
   },
   "file_extension": ".py",
   "mimetype": "text/x-python",
   "name": "python",
   "nbconvert_exporter": "python",
   "pygments_lexer": "ipython3",
   "version": "3.6.3"
  }
 },
 "nbformat": 4,
 "nbformat_minor": 2
}
