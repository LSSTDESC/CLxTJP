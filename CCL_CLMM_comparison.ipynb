{
 "cells": [
  {
   "cell_type": "markdown",
   "metadata": {},
   "source": [
    "# First look at halo models available in CCL, comparison to CLMM (based on cluster-toolkit)\n"
   ]
  },
  {
   "cell_type": "code",
   "execution_count": 1,
   "metadata": {},
   "outputs": [],
   "source": [
    "import pyccl\n",
    "import sys\n",
    "sys.path.append('./support')\n",
    "import clmm\n",
    "import clmm.modeling as m\n",
    "import numpy as np\n",
    "import matplotlib.pyplot as plt"
   ]
  },
  {
   "cell_type": "code",
   "execution_count": 2,
   "metadata": {},
   "outputs": [],
   "source": [
    "cosmo = pyccl.Cosmology(Omega_c=0.26, Omega_b=0.04,\n",
    "                            h=0.7, n_s=0.96, sigma8=0.8,\n",
    "                            transfer_function='bbks')\n",
    "\n",
    "# Need to convert to dictionary for CLMM\n",
    "cosmo_dict = {'Omega_c': cosmo['Omega_c'], 'Omega_b': cosmo['Omega_b'],\n",
    "                'h': cosmo['h'], 'H0': cosmo['H0']}"
   ]
  },
  {
   "cell_type": "markdown",
   "metadata": {},
   "source": [
    "## 1. NFW halo in z=0\n",
    "What we'll see below:\n",
    "- If units from CCL properly understood, then agreement between CCL and CLMM/cluster-toolkit.\n",
    "- Relative difference at the 1.e-4 level, which seems a bit much given that all is analytical. Physical constant definitions?\n"
   ]
  },
  {
   "cell_type": "code",
   "execution_count": 3,
   "metadata": {},
   "outputs": [],
   "source": [
    "# Configuration\n",
    "mass_Delta = 200\n",
    "cluster_concentration = 4\n",
    "cluster_mass = 1.e15 #Msun\n",
    "z_cl = 0.\n",
    "r = np.logspace(-2,2,30) #Mpc"
   ]
  },
  {
   "cell_type": "markdown",
   "metadata": {},
   "source": [
    "#### 1.1 First, looking at the 3D density"
   ]
  },
  {
   "cell_type": "markdown",
   "metadata": {},
   "source": [
    "##### - CCL\n",
    "There are two ways to get that quantity in CCL, one being deprecated. Going to use both."
   ]
  },
  {
   "cell_type": "code",
   "execution_count": 4,
   "metadata": {},
   "outputs": [
    {
     "name": "stderr",
     "output_type": "stream",
     "text": [
      "/pbs/throng/lsst/users/ccombet/CCL/pyccl/pyutils.py:403: CCLWarning: The function nfw_profile_3d is deprecated. Use HaloProfileNFW instead.\n",
      "  warnings.warn(s, CCLWarning)\n"
     ]
    }
   ],
   "source": [
    "a = 1./(1+z_cl)\n",
    "cluster_mass_ccl = cluster_mass #Msun\n",
    "r_ccl = r\n",
    "\n",
    "# Obsolete function -  not sure what mass definition it used (matter or critical)\n",
    "rho_nfw_ccl_old0 = pyccl.nfw_profile_3d(cosmo, cluster_concentration, \n",
    "                                    cluster_mass_ccl, mass_Delta, a, r_ccl)# Msun pc-3"
   ]
  },
  {
   "cell_type": "markdown",
   "metadata": {},
   "source": [
    "Following the deprecation warning, use HaloProfileNFW below"
   ]
  },
  {
   "cell_type": "code",
   "execution_count": 5,
   "metadata": {},
   "outputs": [],
   "source": [
    "# Latest approach, using HaloProfileNFW\n",
    "# CLMM defined the spherical overdensity mass w.r.t to the matter density, so make the same \n",
    "# choice for mass_def in CCL\n",
    "mass_def = pyccl.halos.massdef.MassDef(200, 'matter')\n",
    "\n",
    "c_M_rel = pyccl.halos.concentration.ConcentrationConstant(c=cluster_concentration, \n",
    "                                                          mdef=mass_def)\n",
    "nfw_obj = pyccl.halos.profiles.HaloProfileNFW(c_M_rel,cumul2d_analytic=True, truncated=False)\n",
    "rho_nfw_ccl_new0 = nfw_obj.real(cosmo, r_ccl, cluster_mass_ccl, a, mass_def=mass_def) # Msun pc-3\n"
   ]
  },
  {
   "cell_type": "markdown",
   "metadata": {},
   "source": [
    "##### - CLMM\n",
    "CLMM modeling module takes radius in Mpc/h and mass in Msun/h. So need to modify to match the CCL configuration above"
   ]
  },
  {
   "cell_type": "code",
   "execution_count": 6,
   "metadata": {},
   "outputs": [],
   "source": [
    "# new radius and mass definition\n",
    "r_clmm = r*cosmo['h'] #Mpc/h\n",
    "cluster_mass_clmm = cluster_mass*cosmo['h']#Msun/h\n",
    "\n",
    "# CLMM 3d density - units = h2 Msun pc-3\n",
    "rho_nfw_clmm0 = m.get_3d_density(r_clmm, mdelta=cluster_mass_clmm, \n",
    "                                cdelta=cluster_concentration, delta_mdef=mass_Delta, \n",
    "                                z_cl=z_cl, cosmo=cosmo_dict,halo_profile_model='nfw')"
   ]
  },
  {
   "cell_type": "code",
   "execution_count": 7,
   "metadata": {},
   "outputs": [
    {
     "data": {
      "text/plain": [
       "<matplotlib.legend.Legend at 0x7fa16e84fed0>"
      ]
     },
     "execution_count": 7,
     "metadata": {},
     "output_type": "execute_result"
    },
    {
     "data": {
      "image/png": "[encoded data removed]",
      "text/plain": [
       "<Figure size 432x288 with 1 Axes>"
      ]
     },
     "metadata": {
      "needs_background": "light"
     },
     "output_type": "display_data"
    }
   ],
   "source": [
    "# CLMM result multiplied by h2 to match CCL units\n",
    "plt.loglog(r_ccl,rho_nfw_ccl_old0, label='CCL from HaloProfile')\n",
    "plt.scatter(r_ccl,rho_nfw_clmm0*cosmo['h']*cosmo['h'], label='CLMM', marker='o', color='orange')\n",
    "plt.scatter(r_ccl,rho_nfw_ccl_new0, marker='x', color='green', label='CCL deprecated')\n",
    "plt.xlabel('R [Mpc]')\n",
    "plt.ylabel(r'$\\rho$ [Msun/pc3]')\n",
    "plt.legend()"
   ]
  },
  {
   "cell_type": "markdown",
   "metadata": {},
   "source": [
    "Looking at the relative difference, variation at 1.e-4 level exist. A bit much given that it's all analytical. Where does the small difference comes from ? physical constant definitions?"
   ]
  },
  {
   "cell_type": "code",
   "execution_count": 8,
   "metadata": {},
   "outputs": [
    {
     "data": {
      "text/plain": [
       "array([1.68835167e-04, 1.68030191e-04, 1.66936729e-04, 1.65457507e-04,\n",
       "       1.63467547e-04, 1.60810477e-04, 1.57297902e-04, 1.52715171e-04,\n",
       "       1.46837966e-04, 1.39464311e-04, 1.30463832e-04, 1.19838783e-04,\n",
       "       1.07779836e-04, 9.46896579e-05, 8.11494680e-05, 6.78251752e-05,\n",
       "       5.53415471e-05, 4.41721554e-05, 3.45831457e-05, 2.66386207e-05,\n",
       "       2.02482957e-05, 1.52292534e-05, 1.13605676e-05, 8.42152133e-06,\n",
       "       6.21323565e-06, 4.56773896e-06, 3.34917555e-06, 2.45090922e-06,\n",
       "       1.79098931e-06, 1.30737821e-06])"
      ]
     },
     "execution_count": 8,
     "metadata": {},
     "output_type": "execute_result"
    }
   ],
   "source": [
    "rho_nfw_ccl_new0 / (rho_nfw_clmm0*cosmo['h']*cosmo['h']) - 1 "
   ]
  },
  {
   "cell_type": "markdown",
   "metadata": {},
   "source": [
    "#### 1.2 Projected surface density Sigma for NFW"
   ]
  },
  {
   "cell_type": "code",
   "execution_count": 9,
   "metadata": {},
   "outputs": [
    {
     "data": {
      "text/plain": [
       "<matplotlib.legend.Legend at 0x7fa16c6779d0>"
      ]
     },
     "execution_count": 9,
     "metadata": {},
     "output_type": "execute_result"
    },
    {
     "data": {
      "image/png": "[encoded data removed]",
      "text/plain": [
       "<Figure size 432x288 with 1 Axes>"
      ]
     },
     "metadata": {
      "needs_background": "light"
     },
     "output_type": "display_data"
    }
   ],
   "source": [
    "Sigma_nfw_ccl0 = nfw_obj.projected(cosmo, r_ccl, cluster_mass_ccl, a, mass_def) # M_sun/Mpc2\n",
    "Sigma_nfw_clmm0 = m.predict_surface_density(r_clmm, cluster_mass_clmm, \n",
    "                                           cluster_concentration, z_cl, cosmo=cosmo_dict, \n",
    "                                           delta_mdef=mass_Delta, \n",
    "                                           halo_profile_model='nfw') # h M_sun/pc2\n",
    "plt.loglog(r_ccl,Sigma_nfw_ccl0, label='CCL from HaloProfile')\n",
    "\n",
    "plt.scatter(r_ccl,Sigma_nfw_clmm0*cosmo['h']*1.e12, label='CLMM', marker='o', color='orange')\n",
    "plt.xlabel('R [Mpc]')\n",
    "plt.ylabel(r'$\\Sigma$ [Msun/Mpc2]')\n",
    "plt.legend()"
   ]
  },
  {
   "cell_type": "code",
   "execution_count": 10,
   "metadata": {},
   "outputs": [
    {
     "data": {
      "text/plain": [
       "array([ 0.0025792 ,  0.00235723,  0.00173469,  0.00144815,  0.00181543,\n",
       "        0.00150489,  0.00131341,  0.00123427,  0.00114889,  0.0009085 ,\n",
       "        0.00067759,  0.00041506,  0.00012578, -0.00018109, -0.00049297,\n",
       "       -0.00079575, -0.00107651, -0.00132568, -0.00153813, -0.00171291,\n",
       "       -0.00185213, -0.00195947, -0.00203876, -0.00209269, -0.00212144,\n",
       "       -0.00212075, -0.00207855, -0.00196886, -0.00174002, -0.00129265])"
      ]
     },
     "execution_count": 10,
     "metadata": {},
     "output_type": "execute_result"
    }
   ],
   "source": [
    "Sigma_nfw_ccl0 / (Sigma_nfw_clmm0*cosmo['h']*1.e12) - 1 "
   ]
  },
  {
   "cell_type": "markdown",
   "metadata": {},
   "source": [
    "## 2. NFW halo in z=1\n",
    "What we'll see below:\n",
    "- Clear differences arise when the cluster is not is z=0. \n",
    "- The same result is obtained in CCL whether the cluster is in z=0 or not.\n",
    "- CLMM uses rho_matter(z) in the mass definition. Does CCL use rho_matter(z=0), which might explain this behaviour?"
   ]
  },
  {
   "cell_type": "code",
   "execution_count": 11,
   "metadata": {},
   "outputs": [],
   "source": [
    "# Configuration\n",
    "mass_Delta = 200\n",
    "z_cl = 1.\n",
    "a = 1./(1+z_cl)\n",
    "r = np.logspace(-2,2,30) #Mpc"
   ]
  },
  {
   "cell_type": "code",
   "execution_count": 12,
   "metadata": {},
   "outputs": [],
   "source": [
    "mass_def = pyccl.halos.massdef.MassDef(200, 'matter')\n",
    "\n",
    "c_M_rel = pyccl.halos.concentration.ConcentrationConstant(c=cluster_concentration, \n",
    "                                                          mdef=mass_def)\n",
    "rho_nfw_ccl_new = nfw_obj.real(cosmo, r_ccl, cluster_mass_ccl, a, mass_def=mass_def) # Msun pc-3"
   ]
  },
  {
   "cell_type": "code",
   "execution_count": 13,
   "metadata": {},
   "outputs": [],
   "source": [
    "# new radius and mass definition\n",
    "r_clmm = r*cosmo['h'] #Mpc/h\n",
    "cluster_mass_clmm = cluster_mass*cosmo['h']#Msun/h\n",
    "\n",
    "# CLMM 3d density - units = h2 Msun pc-3\n",
    "rho_nfw_clmm = m.get_3d_density(r_clmm, mdelta=cluster_mass_clmm, \n",
    "                                cdelta=cluster_concentration, delta_mdef=mass_Delta, \n",
    "                                z_cl=z_cl, cosmo=cosmo_dict,halo_profile_model='nfw')"
   ]
  },
  {
   "cell_type": "code",
   "execution_count": 14,
   "metadata": {},
   "outputs": [
    {
     "data": {
      "text/plain": [
       "<matplotlib.legend.Legend at 0x7fa16c341990>"
      ]
     },
     "execution_count": 14,
     "metadata": {},
     "output_type": "execute_result"
    },
    {
     "data": {
      "image/png": "[encoded data removed]",
      "text/plain": [
       "<Figure size 432x288 with 1 Axes>"
      ]
     },
     "metadata": {
      "needs_background": "light"
     },
     "output_type": "display_data"
    }
   ],
   "source": [
    "# CLMM result multiplied by h2 to match CCL units\n",
    "plt.loglog(r_ccl,rho_nfw_ccl_new0, label='CCL from HaloProfile, z_cl=1')\n",
    "plt.scatter(r_ccl,rho_nfw_ccl_new, label='CCL from HaloProfile, z_cl=0', marker='x', color = 'red')\n",
    "plt.loglog(r_ccl,rho_nfw_clmm*cosmo['h']*cosmo['h'], label='CLMM, z_cl=1', color='orange')\n",
    "plt.xlabel('R [Mpc]')\n",
    "plt.ylabel(r'$\\rho$ [Msun/pc3]')\n",
    "plt.legend()"
   ]
  }
 ],
 "metadata": {
  "kernelspec": {
   "display_name": "desc-clmm",
   "language": "python",
   "name": "desc-clmm"
  },
  "language_info": {
   "codemirror_mode": {
    "name": "ipython",
    "version": 3
   },
   "file_extension": ".py",
   "mimetype": "text/x-python",
   "name": "python",
   "nbconvert_exporter": "python",
   "pygments_lexer": "ipython3",
   "version": "3.7.6"
  }
 },
 "nbformat": 4,
 "nbformat_minor": 4
}
